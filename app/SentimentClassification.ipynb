{
 "cells": [
  {
   "cell_type": "code",
   "execution_count": 129,
   "metadata": {
    "collapsed": true
   },
   "outputs": [],
   "source": [
    "import pandas as pd\n",
    "import string\n",
    "import nltk.classify.util\n",
    "from nltk.classify import NaiveBayesClassifier\n",
    "from nltk.corpus import stopwords\n",
    "import pickle\n",
    "import preprocess\n",
    "import datetime"
   ]
  },
  {
   "cell_type": "code",
   "execution_count": 7,
   "metadata": {
    "collapsed": true
   },
   "outputs": [],
   "source": [
    "training_data = pd.read_csv('trainingandtestdata/training.1600000.processed.noemoticon.csv', header=None, names=['Sentiment', 'ID', 'date', 'query', 'user', 'tweet'])"
   ]
  },
  {
   "cell_type": "code",
   "execution_count": 5,
   "metadata": {
    "collapsed": false
   },
   "outputs": [],
   "source": [
    "test_data = pd.read_csv('trainingandtestdata/testdata.manual.2009.06.14.csv', header=None, names=['Sentiment', 'ID', 'date', 'query', 'user', 'tweet'])"
   ]
  },
  {
   "cell_type": "code",
   "execution_count": 67,
   "metadata": {
    "collapsed": false
   },
   "outputs": [
    {
     "name": "stdout",
     "output_type": "stream",
     "text": [
      "1600000\n",
      "498\n"
     ]
    }
   ],
   "source": [
    "print len(training_data)\n",
    "print len(test_data)"
   ]
  },
  {
   "cell_type": "code",
   "execution_count": 51,
   "metadata": {
    "collapsed": false
   },
   "outputs": [
    {
     "name": "stderr",
     "output_type": "stream",
     "text": [
      "/Library/Frameworks/Python.framework/Versions/2.7/lib/python2.7/site-packages/ipykernel/__main__.py:5: UnicodeWarning: Unicode equal comparison failed to convert both arguments to Unicode - interpreting them as being unequal\n"
     ]
    }
   ],
   "source": [
    "punctuation = list(string.punctuation)\n",
    "stop = stopwords.words('english') + punctuation + ['RT', 'rt', 'via', 'http', 'https', ':/']\n",
    "\n",
    "def word_feats(words):\n",
    "    return dict([(word, True) for word in words.split(' ') if word not in stop])\n",
    "\n",
    "training_data['feats'] = training_data['tweet'].apply(word_feats)\n",
    "test_data['feats'] = test_data['tweet'].apply(word_feats)"
   ]
  },
  {
   "cell_type": "code",
   "execution_count": 52,
   "metadata": {
    "collapsed": false
   },
   "outputs": [
    {
     "data": {
      "text/html": [
       "<div>\n",
       "<table border=\"1\" class=\"dataframe\">\n",
       "  <thead>\n",
       "    <tr style=\"text-align: right;\">\n",
       "      <th></th>\n",
       "      <th>Sentiment</th>\n",
       "      <th>ID</th>\n",
       "      <th>date</th>\n",
       "      <th>query</th>\n",
       "      <th>user</th>\n",
       "      <th>tweet</th>\n",
       "      <th>feats</th>\n",
       "    </tr>\n",
       "  </thead>\n",
       "  <tbody>\n",
       "    <tr>\n",
       "      <th>0</th>\n",
       "      <td>0</td>\n",
       "      <td>1467810369</td>\n",
       "      <td>Mon Apr 06 22:19:45 PDT 2009</td>\n",
       "      <td>NO_QUERY</td>\n",
       "      <td>_TheSpecialOne_</td>\n",
       "      <td>@switchfoot http://twitpic.com/2y1zl - Awww, t...</td>\n",
       "      <td>{u'': True, u'it.': True, u';D': True, u'Third...</td>\n",
       "    </tr>\n",
       "    <tr>\n",
       "      <th>1</th>\n",
       "      <td>0</td>\n",
       "      <td>1467810672</td>\n",
       "      <td>Mon Apr 06 22:19:49 PDT 2009</td>\n",
       "      <td>NO_QUERY</td>\n",
       "      <td>scotthamilton</td>\n",
       "      <td>is upset that he can't update his Facebook by ...</td>\n",
       "      <td>{u'': True, u'School': True, u'texting': True,...</td>\n",
       "    </tr>\n",
       "    <tr>\n",
       "      <th>2</th>\n",
       "      <td>0</td>\n",
       "      <td>1467810917</td>\n",
       "      <td>Mon Apr 06 22:19:53 PDT 2009</td>\n",
       "      <td>NO_QUERY</td>\n",
       "      <td>mattycus</td>\n",
       "      <td>@Kenichan I dived many times for the ball. Man...</td>\n",
       "      <td>{u'': True, u'50%': True, u'Managed': True, u'...</td>\n",
       "    </tr>\n",
       "    <tr>\n",
       "      <th>3</th>\n",
       "      <td>0</td>\n",
       "      <td>1467811184</td>\n",
       "      <td>Mon Apr 06 22:19:57 PDT 2009</td>\n",
       "      <td>NO_QUERY</td>\n",
       "      <td>ElleCTF</td>\n",
       "      <td>my whole body feels itchy and like its on fire</td>\n",
       "      <td>{u'body': True, u'': True, u'like': True, u'fi...</td>\n",
       "    </tr>\n",
       "    <tr>\n",
       "      <th>4</th>\n",
       "      <td>0</td>\n",
       "      <td>1467811193</td>\n",
       "      <td>Mon Apr 06 22:19:57 PDT 2009</td>\n",
       "      <td>NO_QUERY</td>\n",
       "      <td>Karoli</td>\n",
       "      <td>@nationwideclass no, it's not behaving at all....</td>\n",
       "      <td>{u'no,': True, u'behaving': True, u'there.': T...</td>\n",
       "    </tr>\n",
       "  </tbody>\n",
       "</table>\n",
       "</div>"
      ],
      "text/plain": [
       "   Sentiment          ID                          date     query  \\\n",
       "0          0  1467810369  Mon Apr 06 22:19:45 PDT 2009  NO_QUERY   \n",
       "1          0  1467810672  Mon Apr 06 22:19:49 PDT 2009  NO_QUERY   \n",
       "2          0  1467810917  Mon Apr 06 22:19:53 PDT 2009  NO_QUERY   \n",
       "3          0  1467811184  Mon Apr 06 22:19:57 PDT 2009  NO_QUERY   \n",
       "4          0  1467811193  Mon Apr 06 22:19:57 PDT 2009  NO_QUERY   \n",
       "\n",
       "              user                                              tweet  \\\n",
       "0  _TheSpecialOne_  @switchfoot http://twitpic.com/2y1zl - Awww, t...   \n",
       "1    scotthamilton  is upset that he can't update his Facebook by ...   \n",
       "2         mattycus  @Kenichan I dived many times for the ball. Man...   \n",
       "3          ElleCTF    my whole body feels itchy and like its on fire    \n",
       "4           Karoli  @nationwideclass no, it's not behaving at all....   \n",
       "\n",
       "                                               feats  \n",
       "0  {u'': True, u'it.': True, u';D': True, u'Third...  \n",
       "1  {u'': True, u'School': True, u'texting': True,...  \n",
       "2  {u'': True, u'50%': True, u'Managed': True, u'...  \n",
       "3  {u'body': True, u'': True, u'like': True, u'fi...  \n",
       "4  {u'no,': True, u'behaving': True, u'there.': T...  "
      ]
     },
     "execution_count": 52,
     "metadata": {},
     "output_type": "execute_result"
    }
   ],
   "source": [
    "training_data.head()"
   ]
  },
  {
   "cell_type": "code",
   "execution_count": 53,
   "metadata": {
    "collapsed": false
   },
   "outputs": [
    {
     "data": {
      "text/html": [
       "<div>\n",
       "<table border=\"1\" class=\"dataframe\">\n",
       "  <thead>\n",
       "    <tr style=\"text-align: right;\">\n",
       "      <th></th>\n",
       "      <th>Sentiment</th>\n",
       "      <th>ID</th>\n",
       "      <th>date</th>\n",
       "      <th>query</th>\n",
       "      <th>user</th>\n",
       "      <th>tweet</th>\n",
       "      <th>feats</th>\n",
       "    </tr>\n",
       "  </thead>\n",
       "  <tbody>\n",
       "    <tr>\n",
       "      <th>0</th>\n",
       "      <td>4</td>\n",
       "      <td>3</td>\n",
       "      <td>Mon May 11 03:17:40 UTC 2009</td>\n",
       "      <td>kindle2</td>\n",
       "      <td>tpryan</td>\n",
       "      <td>@stellargirl I loooooooovvvvvveee my Kindle2. ...</td>\n",
       "      <td>{u'fantastic': True, u'I': True, u'Kindle2.': ...</td>\n",
       "    </tr>\n",
       "    <tr>\n",
       "      <th>1</th>\n",
       "      <td>4</td>\n",
       "      <td>4</td>\n",
       "      <td>Mon May 11 03:18:03 UTC 2009</td>\n",
       "      <td>kindle2</td>\n",
       "      <td>vcu451</td>\n",
       "      <td>Reading my kindle2...  Love it... Lee childs i...</td>\n",
       "      <td>{u'': True, u'childs': True, u'Love': True, u'...</td>\n",
       "    </tr>\n",
       "    <tr>\n",
       "      <th>2</th>\n",
       "      <td>4</td>\n",
       "      <td>5</td>\n",
       "      <td>Mon May 11 03:18:54 UTC 2009</td>\n",
       "      <td>kindle2</td>\n",
       "      <td>chadfu</td>\n",
       "      <td>Ok, first assesment of the #kindle2 ...it fuck...</td>\n",
       "      <td>{u'assesment': True, u'fucking': True, u'rocks...</td>\n",
       "    </tr>\n",
       "    <tr>\n",
       "      <th>3</th>\n",
       "      <td>4</td>\n",
       "      <td>6</td>\n",
       "      <td>Mon May 11 03:19:04 UTC 2009</td>\n",
       "      <td>kindle2</td>\n",
       "      <td>SIX15</td>\n",
       "      <td>@kenburbary You'll love your Kindle2. I've had...</td>\n",
       "      <td>{u'back.': True, u'months': True, u'love': Tru...</td>\n",
       "    </tr>\n",
       "    <tr>\n",
       "      <th>4</th>\n",
       "      <td>4</td>\n",
       "      <td>7</td>\n",
       "      <td>Mon May 11 03:21:41 UTC 2009</td>\n",
       "      <td>kindle2</td>\n",
       "      <td>yamarama</td>\n",
       "      <td>@mikefish  Fair enough. But i have the Kindle2...</td>\n",
       "      <td>{u'': True, u'perfect': True, u'@mikefish': Tr...</td>\n",
       "    </tr>\n",
       "  </tbody>\n",
       "</table>\n",
       "</div>"
      ],
      "text/plain": [
       "   Sentiment  ID                          date    query      user  \\\n",
       "0          4   3  Mon May 11 03:17:40 UTC 2009  kindle2    tpryan   \n",
       "1          4   4  Mon May 11 03:18:03 UTC 2009  kindle2    vcu451   \n",
       "2          4   5  Mon May 11 03:18:54 UTC 2009  kindle2    chadfu   \n",
       "3          4   6  Mon May 11 03:19:04 UTC 2009  kindle2     SIX15   \n",
       "4          4   7  Mon May 11 03:21:41 UTC 2009  kindle2  yamarama   \n",
       "\n",
       "                                               tweet  \\\n",
       "0  @stellargirl I loooooooovvvvvveee my Kindle2. ...   \n",
       "1  Reading my kindle2...  Love it... Lee childs i...   \n",
       "2  Ok, first assesment of the #kindle2 ...it fuck...   \n",
       "3  @kenburbary You'll love your Kindle2. I've had...   \n",
       "4  @mikefish  Fair enough. But i have the Kindle2...   \n",
       "\n",
       "                                               feats  \n",
       "0  {u'fantastic': True, u'I': True, u'Kindle2.': ...  \n",
       "1  {u'': True, u'childs': True, u'Love': True, u'...  \n",
       "2  {u'assesment': True, u'fucking': True, u'rocks...  \n",
       "3  {u'back.': True, u'months': True, u'love': Tru...  \n",
       "4  {u'': True, u'perfect': True, u'@mikefish': Tr...  "
      ]
     },
     "execution_count": 53,
     "metadata": {},
     "output_type": "execute_result"
    }
   ],
   "source": [
    "test_data.head()"
   ]
  },
  {
   "cell_type": "code",
   "execution_count": 54,
   "metadata": {
    "collapsed": true
   },
   "outputs": [],
   "source": [
    "training_data.to_pickle('pkl/nb_train.pkl')\n",
    "test_data.to_pickle('pkl/nb_test.pkl')"
   ]
  },
  {
   "cell_type": "code",
   "execution_count": 58,
   "metadata": {
    "collapsed": false
   },
   "outputs": [],
   "source": [
    "def transform_feat(df):\n",
    "    \n",
    "    feats = []\n",
    "    \n",
    "    for r in df.iterrows():\n",
    "        sent = r[1][0]\n",
    "        feat = r[1][6]\n",
    "        if sent == 0:\n",
    "            feats.append((feat, 'neg'))\n",
    "        elif sent == 4:\n",
    "            feats.append((feat, 'pos'))\n",
    "        \n",
    "        \n",
    "    return feats"
   ]
  },
  {
   "cell_type": "code",
   "execution_count": 59,
   "metadata": {
    "collapsed": false
   },
   "outputs": [],
   "source": [
    "trainfeats = transform_feat(training_data)\n",
    "testfeats = transform_feat(test_data)"
   ]
  },
  {
   "cell_type": "code",
   "execution_count": 64,
   "metadata": {
    "collapsed": false
   },
   "outputs": [],
   "source": [
    "with open(\"pkl/trainfeats.pkl\", \"wb\") as f:\n",
    "    pickle.dump(trainfeats, f)\n",
    "    \n",
    "with open(\"pkl/testfeats.pkl\", \"wb\") as f:\n",
    "    pickle.dump(testfeats, f)"
   ]
  },
  {
   "cell_type": "code",
   "execution_count": 66,
   "metadata": {
    "collapsed": false
   },
   "outputs": [
    {
     "name": "stdout",
     "output_type": "stream",
     "text": [
      "accuracy: 0.810584958217\n",
      "Most Informative Features\n",
      "                   Died! = True              neg : pos    =    140.3 : 1.0\n",
      "                 me..its = True              pos : neg    =    114.3 : 1.0\n",
      "                 bummed. = True              neg : pos    =     97.0 : 1.0\n",
      "                 McMahon = True              neg : pos    =     76.3 : 1.0\n",
      "                     447 = True              neg : pos    =     74.3 : 1.0\n",
      "                  Farrah = True              neg : pos    =     72.3 : 1.0\n",
      "             @Banksyart2 = True              pos : neg    =     61.7 : 1.0\n",
      "                   Boooo = True              neg : pos    =     53.0 : 1.0\n",
      "                 *cries* = True              neg : pos    =     51.0 : 1.0\n",
      "                    sadd = True              neg : pos    =     49.0 : 1.0\n"
     ]
    }
   ],
   "source": [
    "classifier = NaiveBayesClassifier.train(trainfeats)\n",
    "print 'accuracy:', nltk.classify.util.accuracy(classifier, testfeats)\n",
    "classifier.show_most_informative_features()"
   ]
  },
  {
   "cell_type": "code",
   "execution_count": 114,
   "metadata": {
    "collapsed": false
   },
   "outputs": [
    {
     "ename": "AttributeError",
     "evalue": "'tuple' object has no attribute 'copy'",
     "output_type": "error",
     "traceback": [
      "\u001b[0;31m---------------------------------------------------------------------------\u001b[0m",
      "\u001b[0;31mAttributeError\u001b[0m                            Traceback (most recent call last)",
      "\u001b[0;32m<ipython-input-114-a51d3d7e56f7>\u001b[0m in \u001b[0;36m<module>\u001b[0;34m()\u001b[0m\n\u001b[0;32m----> 1\u001b[0;31m \u001b[0mclassifier\u001b[0m\u001b[0;34m.\u001b[0m\u001b[0mclassify\u001b[0m\u001b[0;34m(\u001b[0m\u001b[0mtestfeats\u001b[0m\u001b[0;34m[\u001b[0m\u001b[0;36m0\u001b[0m\u001b[0;34m]\u001b[0m\u001b[0;34m)\u001b[0m\u001b[0;34m\u001b[0m\u001b[0m\n\u001b[0m",
      "\u001b[0;32m/Library/Frameworks/Python.framework/Versions/2.7/lib/python2.7/site-packages/nltk/classify/naivebayes.pyc\u001b[0m in \u001b[0;36mclassify\u001b[0;34m(self, featureset)\u001b[0m\n\u001b[1;32m     86\u001b[0m \u001b[0;34m\u001b[0m\u001b[0m\n\u001b[1;32m     87\u001b[0m     \u001b[0;32mdef\u001b[0m \u001b[0mclassify\u001b[0m\u001b[0;34m(\u001b[0m\u001b[0mself\u001b[0m\u001b[0;34m,\u001b[0m \u001b[0mfeatureset\u001b[0m\u001b[0;34m)\u001b[0m\u001b[0;34m:\u001b[0m\u001b[0;34m\u001b[0m\u001b[0m\n\u001b[0;32m---> 88\u001b[0;31m         \u001b[0;32mreturn\u001b[0m \u001b[0mself\u001b[0m\u001b[0;34m.\u001b[0m\u001b[0mprob_classify\u001b[0m\u001b[0;34m(\u001b[0m\u001b[0mfeatureset\u001b[0m\u001b[0;34m)\u001b[0m\u001b[0;34m.\u001b[0m\u001b[0mmax\u001b[0m\u001b[0;34m(\u001b[0m\u001b[0;34m)\u001b[0m\u001b[0;34m\u001b[0m\u001b[0m\n\u001b[0m\u001b[1;32m     89\u001b[0m \u001b[0;34m\u001b[0m\u001b[0m\n\u001b[1;32m     90\u001b[0m     \u001b[0;32mdef\u001b[0m \u001b[0mprob_classify\u001b[0m\u001b[0;34m(\u001b[0m\u001b[0mself\u001b[0m\u001b[0;34m,\u001b[0m \u001b[0mfeatureset\u001b[0m\u001b[0;34m)\u001b[0m\u001b[0;34m:\u001b[0m\u001b[0;34m\u001b[0m\u001b[0m\n",
      "\u001b[0;32m/Library/Frameworks/Python.framework/Versions/2.7/lib/python2.7/site-packages/nltk/classify/naivebayes.pyc\u001b[0m in \u001b[0;36mprob_classify\u001b[0;34m(self, featureset)\u001b[0m\n\u001b[1;32m     92\u001b[0m         \u001b[0;31m# Otherwise, we'll just assign a probability of 0 to\u001b[0m\u001b[0;34m\u001b[0m\u001b[0;34m\u001b[0m\u001b[0m\n\u001b[1;32m     93\u001b[0m         \u001b[0;31m# everything.\u001b[0m\u001b[0;34m\u001b[0m\u001b[0;34m\u001b[0m\u001b[0m\n\u001b[0;32m---> 94\u001b[0;31m         \u001b[0mfeatureset\u001b[0m \u001b[0;34m=\u001b[0m \u001b[0mfeatureset\u001b[0m\u001b[0;34m.\u001b[0m\u001b[0mcopy\u001b[0m\u001b[0;34m(\u001b[0m\u001b[0;34m)\u001b[0m\u001b[0;34m\u001b[0m\u001b[0m\n\u001b[0m\u001b[1;32m     95\u001b[0m         \u001b[0;32mfor\u001b[0m \u001b[0mfname\u001b[0m \u001b[0;32min\u001b[0m \u001b[0mlist\u001b[0m\u001b[0;34m(\u001b[0m\u001b[0mfeatureset\u001b[0m\u001b[0;34m.\u001b[0m\u001b[0mkeys\u001b[0m\u001b[0;34m(\u001b[0m\u001b[0;34m)\u001b[0m\u001b[0;34m)\u001b[0m\u001b[0;34m:\u001b[0m\u001b[0;34m\u001b[0m\u001b[0m\n\u001b[1;32m     96\u001b[0m             \u001b[0;32mfor\u001b[0m \u001b[0mlabel\u001b[0m \u001b[0;32min\u001b[0m \u001b[0mself\u001b[0m\u001b[0;34m.\u001b[0m\u001b[0m_labels\u001b[0m\u001b[0;34m:\u001b[0m\u001b[0;34m\u001b[0m\u001b[0m\n",
      "\u001b[0;31mAttributeError\u001b[0m: 'tuple' object has no attribute 'copy'"
     ]
    }
   ],
   "source": [
    "classifier.classify(testfeats[0])"
   ]
  },
  {
   "cell_type": "code",
   "execution_count": 69,
   "metadata": {
    "collapsed": false
   },
   "outputs": [
    {
     "data": {
      "text/plain": [
       "['neg', 'pos']"
      ]
     },
     "execution_count": 69,
     "metadata": {},
     "output_type": "execute_result"
    }
   ],
   "source": [
    "classifier.labels()"
   ]
  },
  {
   "cell_type": "code",
   "execution_count": 70,
   "metadata": {
    "collapsed": true
   },
   "outputs": [],
   "source": [
    "with open('pkl/NB.pkl', 'w') as f:\n",
    "    pickle.dump(classifier, f)"
   ]
  },
  {
   "cell_type": "code",
   "execution_count": 71,
   "metadata": {
    "collapsed": true
   },
   "outputs": [],
   "source": [
    "df = pd.read_pickle('pkl/brexit.pkl')"
   ]
  },
  {
   "cell_type": "code",
   "execution_count": 127,
   "metadata": {
    "collapsed": false
   },
   "outputs": [
    {
     "data": {
      "text/html": [
       "<div>\n",
       "<table border=\"1\" class=\"dataframe\">\n",
       "  <thead>\n",
       "    <tr style=\"text-align: right;\">\n",
       "      <th></th>\n",
       "      <th>0</th>\n",
       "    </tr>\n",
       "  </thead>\n",
       "  <tbody>\n",
       "    <tr>\n",
       "      <th>accessLevel</th>\n",
       "      <td>0</td>\n",
       "    </tr>\n",
       "    <tr>\n",
       "      <th>contributors</th>\n",
       "      <td>[]</td>\n",
       "    </tr>\n",
       "    <tr>\n",
       "      <th>createdAt</th>\n",
       "      <td>1459727999000</td>\n",
       "    </tr>\n",
       "    <tr>\n",
       "      <th>currentUserRetweetId</th>\n",
       "      <td>-1</td>\n",
       "    </tr>\n",
       "    <tr>\n",
       "      <th>extendedMediaEntities</th>\n",
       "      <td>[]</td>\n",
       "    </tr>\n",
       "    <tr>\n",
       "      <th>favoriteCount</th>\n",
       "      <td>0</td>\n",
       "    </tr>\n",
       "    <tr>\n",
       "      <th>geoLocation</th>\n",
       "      <td>None</td>\n",
       "    </tr>\n",
       "    <tr>\n",
       "      <th>hashtagEntities</th>\n",
       "      <td>[{u'start': 37, u'end': 43, u'text': u'EUref'}...</td>\n",
       "    </tr>\n",
       "    <tr>\n",
       "      <th>id</th>\n",
       "      <td>716777296229765120</td>\n",
       "    </tr>\n",
       "    <tr>\n",
       "      <th>inReplyToScreenName</th>\n",
       "      <td>None</td>\n",
       "    </tr>\n",
       "    <tr>\n",
       "      <th>inReplyToStatusId</th>\n",
       "      <td>-1</td>\n",
       "    </tr>\n",
       "    <tr>\n",
       "      <th>inReplyToUserId</th>\n",
       "      <td>-1</td>\n",
       "    </tr>\n",
       "    <tr>\n",
       "      <th>isFavorited</th>\n",
       "      <td>False</td>\n",
       "    </tr>\n",
       "    <tr>\n",
       "      <th>isPossiblySensitive</th>\n",
       "      <td>False</td>\n",
       "    </tr>\n",
       "    <tr>\n",
       "      <th>isRetweeted</th>\n",
       "      <td>False</td>\n",
       "    </tr>\n",
       "    <tr>\n",
       "      <th>isTruncated</th>\n",
       "      <td>False</td>\n",
       "    </tr>\n",
       "    <tr>\n",
       "      <th>lang</th>\n",
       "      <td>en</td>\n",
       "    </tr>\n",
       "    <tr>\n",
       "      <th>mediaEntities</th>\n",
       "      <td>[{u'mediaURLHttps': u'https://pbs.twimg.com/me...</td>\n",
       "    </tr>\n",
       "    <tr>\n",
       "      <th>place</th>\n",
       "      <td>None</td>\n",
       "    </tr>\n",
       "    <tr>\n",
       "      <th>quotedStatus</th>\n",
       "      <td>None</td>\n",
       "    </tr>\n",
       "    <tr>\n",
       "      <th>quotedStatusId</th>\n",
       "      <td>-1</td>\n",
       "    </tr>\n",
       "    <tr>\n",
       "      <th>rateLimitStatus</th>\n",
       "      <td>None</td>\n",
       "    </tr>\n",
       "    <tr>\n",
       "      <th>retweet</th>\n",
       "      <td>True</td>\n",
       "    </tr>\n",
       "    <tr>\n",
       "      <th>retweetCount</th>\n",
       "      <td>5</td>\n",
       "    </tr>\n",
       "    <tr>\n",
       "      <th>retweetedByMe</th>\n",
       "      <td>False</td>\n",
       "    </tr>\n",
       "    <tr>\n",
       "      <th>retweetedStatus</th>\n",
       "      <td>{u'mediaEntities': [{u'mediaURLHttps': u'https...</td>\n",
       "    </tr>\n",
       "    <tr>\n",
       "      <th>scopes</th>\n",
       "      <td>None</td>\n",
       "    </tr>\n",
       "    <tr>\n",
       "      <th>source</th>\n",
       "      <td>&lt;a href=\"http://twitter.com/download/android\" ...</td>\n",
       "    </tr>\n",
       "    <tr>\n",
       "      <th>symbolEntities</th>\n",
       "      <td>[]</td>\n",
       "    </tr>\n",
       "    <tr>\n",
       "      <th>text</th>\n",
       "      <td>RT @Brexit4me: Bureaucracy gone mad. #EUref #B...</td>\n",
       "    </tr>\n",
       "    <tr>\n",
       "      <th>urlentities</th>\n",
       "      <td>[]</td>\n",
       "    </tr>\n",
       "    <tr>\n",
       "      <th>user</th>\n",
       "      <td>{u'profileBannerMobileURL': None, u'followersC...</td>\n",
       "    </tr>\n",
       "    <tr>\n",
       "      <th>userMentionEntities</th>\n",
       "      <td>[{u'end': 13, u'name': u'Brexit4me', u'text': ...</td>\n",
       "    </tr>\n",
       "    <tr>\n",
       "      <th>withheldInCountries</th>\n",
       "      <td>None</td>\n",
       "    </tr>\n",
       "    <tr>\n",
       "      <th>subject</th>\n",
       "      <td>leave</td>\n",
       "    </tr>\n",
       "    <tr>\n",
       "      <th>subject_strict</th>\n",
       "      <td>leave</td>\n",
       "    </tr>\n",
       "    <tr>\n",
       "      <th>feats</th>\n",
       "      <td>{u'gone': True, u'#LeaveEU': True, u'Bureaucra...</td>\n",
       "    </tr>\n",
       "    <tr>\n",
       "      <th>sentiment</th>\n",
       "      <td>neg</td>\n",
       "    </tr>\n",
       "  </tbody>\n",
       "</table>\n",
       "</div>"
      ],
      "text/plain": [
       "                                                                       0\n",
       "accessLevel                                                            0\n",
       "contributors                                                          []\n",
       "createdAt                                                  1459727999000\n",
       "currentUserRetweetId                                                  -1\n",
       "extendedMediaEntities                                                 []\n",
       "favoriteCount                                                          0\n",
       "geoLocation                                                         None\n",
       "hashtagEntities        [{u'start': 37, u'end': 43, u'text': u'EUref'}...\n",
       "id                                                    716777296229765120\n",
       "inReplyToScreenName                                                 None\n",
       "inReplyToStatusId                                                     -1\n",
       "inReplyToUserId                                                       -1\n",
       "isFavorited                                                        False\n",
       "isPossiblySensitive                                                False\n",
       "isRetweeted                                                        False\n",
       "isTruncated                                                        False\n",
       "lang                                                                  en\n",
       "mediaEntities          [{u'mediaURLHttps': u'https://pbs.twimg.com/me...\n",
       "place                                                               None\n",
       "quotedStatus                                                        None\n",
       "quotedStatusId                                                        -1\n",
       "rateLimitStatus                                                     None\n",
       "retweet                                                             True\n",
       "retweetCount                                                           5\n",
       "retweetedByMe                                                      False\n",
       "retweetedStatus        {u'mediaEntities': [{u'mediaURLHttps': u'https...\n",
       "scopes                                                              None\n",
       "source                 <a href=\"http://twitter.com/download/android\" ...\n",
       "symbolEntities                                                        []\n",
       "text                   RT @Brexit4me: Bureaucracy gone mad. #EUref #B...\n",
       "urlentities                                                           []\n",
       "user                   {u'profileBannerMobileURL': None, u'followersC...\n",
       "userMentionEntities    [{u'end': 13, u'name': u'Brexit4me', u'text': ...\n",
       "withheldInCountries                                                 None\n",
       "subject                                                            leave\n",
       "subject_strict                                                     leave\n",
       "feats                  {u'gone': True, u'#LeaveEU': True, u'Bureaucra...\n",
       "sentiment                                                            neg"
      ]
     },
     "execution_count": 127,
     "metadata": {},
     "output_type": "execute_result"
    }
   ],
   "source": [
    "df.head(1).T"
   ]
  },
  {
   "cell_type": "code",
   "execution_count": 161,
   "metadata": {
    "collapsed": false
   },
   "outputs": [
    {
     "data": {
      "text/html": [
       "<div>\n",
       "<table border=\"1\" class=\"dataframe\">\n",
       "  <thead>\n",
       "    <tr style=\"text-align: right;\">\n",
       "      <th></th>\n",
       "      <th>1614</th>\n",
       "    </tr>\n",
       "  </thead>\n",
       "  <tbody>\n",
       "    <tr>\n",
       "      <th>accessLevel</th>\n",
       "      <td>0</td>\n",
       "    </tr>\n",
       "    <tr>\n",
       "      <th>contributors</th>\n",
       "      <td>[]</td>\n",
       "    </tr>\n",
       "    <tr>\n",
       "      <th>createdAt</th>\n",
       "      <td>1459718702000</td>\n",
       "    </tr>\n",
       "    <tr>\n",
       "      <th>currentUserRetweetId</th>\n",
       "      <td>-1</td>\n",
       "    </tr>\n",
       "    <tr>\n",
       "      <th>extendedMediaEntities</th>\n",
       "      <td>[]</td>\n",
       "    </tr>\n",
       "    <tr>\n",
       "      <th>favoriteCount</th>\n",
       "      <td>0</td>\n",
       "    </tr>\n",
       "    <tr>\n",
       "      <th>geoLocation</th>\n",
       "      <td>None</td>\n",
       "    </tr>\n",
       "    <tr>\n",
       "      <th>hashtagEntities</th>\n",
       "      <td>[{u'start': 139, u'end': 140, u'text': u'Brexi...</td>\n",
       "    </tr>\n",
       "    <tr>\n",
       "      <th>id</th>\n",
       "      <td>716738302540431364</td>\n",
       "    </tr>\n",
       "    <tr>\n",
       "      <th>inReplyToScreenName</th>\n",
       "      <td>None</td>\n",
       "    </tr>\n",
       "    <tr>\n",
       "      <th>inReplyToStatusId</th>\n",
       "      <td>-1</td>\n",
       "    </tr>\n",
       "    <tr>\n",
       "      <th>inReplyToUserId</th>\n",
       "      <td>-1</td>\n",
       "    </tr>\n",
       "    <tr>\n",
       "      <th>isFavorited</th>\n",
       "      <td>False</td>\n",
       "    </tr>\n",
       "    <tr>\n",
       "      <th>isPossiblySensitive</th>\n",
       "      <td>False</td>\n",
       "    </tr>\n",
       "    <tr>\n",
       "      <th>isRetweeted</th>\n",
       "      <td>False</td>\n",
       "    </tr>\n",
       "    <tr>\n",
       "      <th>isTruncated</th>\n",
       "      <td>False</td>\n",
       "    </tr>\n",
       "    <tr>\n",
       "      <th>lang</th>\n",
       "      <td>en</td>\n",
       "    </tr>\n",
       "    <tr>\n",
       "      <th>mediaEntities</th>\n",
       "      <td>[]</td>\n",
       "    </tr>\n",
       "    <tr>\n",
       "      <th>place</th>\n",
       "      <td>None</td>\n",
       "    </tr>\n",
       "    <tr>\n",
       "      <th>quotedStatus</th>\n",
       "      <td>None</td>\n",
       "    </tr>\n",
       "    <tr>\n",
       "      <th>quotedStatusId</th>\n",
       "      <td>-1</td>\n",
       "    </tr>\n",
       "    <tr>\n",
       "      <th>rateLimitStatus</th>\n",
       "      <td>None</td>\n",
       "    </tr>\n",
       "    <tr>\n",
       "      <th>retweet</th>\n",
       "      <td>True</td>\n",
       "    </tr>\n",
       "    <tr>\n",
       "      <th>retweetCount</th>\n",
       "      <td>1681</td>\n",
       "    </tr>\n",
       "    <tr>\n",
       "      <th>retweetedByMe</th>\n",
       "      <td>False</td>\n",
       "    </tr>\n",
       "    <tr>\n",
       "      <th>retweetedStatus</th>\n",
       "      <td>{u'mediaEntities': [], u'retweetCount': 1681, ...</td>\n",
       "    </tr>\n",
       "    <tr>\n",
       "      <th>scopes</th>\n",
       "      <td>None</td>\n",
       "    </tr>\n",
       "    <tr>\n",
       "      <th>source</th>\n",
       "      <td>&lt;a href=\"http://twitter.com/download/iphone\" r...</td>\n",
       "    </tr>\n",
       "    <tr>\n",
       "      <th>symbolEntities</th>\n",
       "      <td>[]</td>\n",
       "    </tr>\n",
       "    <tr>\n",
       "      <th>text</th>\n",
       "      <td>RT @allisonpearson: Brussels, de facto capital...</td>\n",
       "    </tr>\n",
       "    <tr>\n",
       "      <th>urlentities</th>\n",
       "      <td>[]</td>\n",
       "    </tr>\n",
       "    <tr>\n",
       "      <th>user</th>\n",
       "      <td>{u'profileBannerMobileURL': u'https://pbs.twim...</td>\n",
       "    </tr>\n",
       "    <tr>\n",
       "      <th>userMentionEntities</th>\n",
       "      <td>[{u'end': 18, u'name': u'Allison Pearson', u't...</td>\n",
       "    </tr>\n",
       "    <tr>\n",
       "      <th>withheldInCountries</th>\n",
       "      <td>None</td>\n",
       "    </tr>\n",
       "    <tr>\n",
       "      <th>subject</th>\n",
       "      <td>leave</td>\n",
       "    </tr>\n",
       "    <tr>\n",
       "      <th>subject_strict</th>\n",
       "      <td>neutral</td>\n",
       "    </tr>\n",
       "    <tr>\n",
       "      <th>feats</th>\n",
       "      <td>{u'And': True, u'EU,': True, u'facto': True, u...</td>\n",
       "    </tr>\n",
       "    <tr>\n",
       "      <th>sentiment</th>\n",
       "      <td>neg</td>\n",
       "    </tr>\n",
       "    <tr>\n",
       "      <th>date</th>\n",
       "      <td>2016-04-03</td>\n",
       "    </tr>\n",
       "  </tbody>\n",
       "</table>\n",
       "</div>"
      ],
      "text/plain": [
       "                                                                    1614\n",
       "accessLevel                                                            0\n",
       "contributors                                                          []\n",
       "createdAt                                                  1459718702000\n",
       "currentUserRetweetId                                                  -1\n",
       "extendedMediaEntities                                                 []\n",
       "favoriteCount                                                          0\n",
       "geoLocation                                                         None\n",
       "hashtagEntities        [{u'start': 139, u'end': 140, u'text': u'Brexi...\n",
       "id                                                    716738302540431364\n",
       "inReplyToScreenName                                                 None\n",
       "inReplyToStatusId                                                     -1\n",
       "inReplyToUserId                                                       -1\n",
       "isFavorited                                                        False\n",
       "isPossiblySensitive                                                False\n",
       "isRetweeted                                                        False\n",
       "isTruncated                                                        False\n",
       "lang                                                                  en\n",
       "mediaEntities                                                         []\n",
       "place                                                               None\n",
       "quotedStatus                                                        None\n",
       "quotedStatusId                                                        -1\n",
       "rateLimitStatus                                                     None\n",
       "retweet                                                             True\n",
       "retweetCount                                                        1681\n",
       "retweetedByMe                                                      False\n",
       "retweetedStatus        {u'mediaEntities': [], u'retweetCount': 1681, ...\n",
       "scopes                                                              None\n",
       "source                 <a href=\"http://twitter.com/download/iphone\" r...\n",
       "symbolEntities                                                        []\n",
       "text                   RT @allisonpearson: Brussels, de facto capital...\n",
       "urlentities                                                           []\n",
       "user                   {u'profileBannerMobileURL': u'https://pbs.twim...\n",
       "userMentionEntities    [{u'end': 18, u'name': u'Allison Pearson', u't...\n",
       "withheldInCountries                                                 None\n",
       "subject                                                            leave\n",
       "subject_strict                                                   neutral\n",
       "feats                  {u'And': True, u'EU,': True, u'facto': True, u...\n",
       "sentiment                                                            neg\n",
       "date                                                          2016-04-03"
      ]
     },
     "execution_count": 161,
     "metadata": {},
     "output_type": "execute_result"
    }
   ],
   "source": [
    "df.sort_values(by='retweetCount', ascending=False).head(1).transpose()"
   ]
  },
  {
   "cell_type": "code",
   "execution_count": 164,
   "metadata": {
    "collapsed": false
   },
   "outputs": [
    {
     "name": "stdout",
     "output_type": "stream",
     "text": [
      "[[0 [] 1459718702000 -1 [] 0 None\n",
      "  [{u'start': 139, u'end': 140, u'text': u'Brexit'}] 716738302540431364\n",
      "  None -1 -1 False False False False u'en' [] None None -1 None True 1681\n",
      "  False\n",
      "  {u'mediaEntities': [], u'retweetCount': 1681, u'contributors': [], u'text': u\"Brussels, de facto capital of the EU, is also the jihadist capital of Europe. And the Remainers dare to say we're safer in the EU! #Brexit\", u'inReplyToUserId': -1, u'retweet': False, u'withheldInCountries': None, u'quotedStatusId': -1, u'isTruncated': False, u'createdAt': 1458632736000, u'urlentities': [], u'userMentionEntities': [], u'hashtagEntities': [{u'start': 131, u'end': 138, u'text': u'Brexit'}], u'source': u'<a href=\"http://twitter.com\" rel=\"nofollow\">Twitter Web Client</a>', u'quotedStatus': None, u'retweetedStatus': None, u'id': 712183431355047937, u'extendedMediaEntities': [], u'favoriteCount': 1569, u'inReplyToScreenName': None, u'scopes': None, u'rateLimitStatus': None, u'retweetedByMe': False, u'user': {u'profileBannerMobileURL': None, u'followersCount': 17432, u'showAllInlineMedia': False, u'profileSidebarFillColor': u'DDEEF6', u'withheldInCountries': None, u'profileBannerIPadRetinaURL': None, u'friendsCount': 6406, u'favouritesCount': 14, u'biggerProfileImageURL': u'http://pbs.twimg.com/profile_images/689893297989509121/CIfzAmmu_bigger.jpg', u'id': 137413599, u'descriptionURLEntities': [], u'description': u\"Telegraph columnist, apprentice mother, words nut, author I Don't Know How She Does It'. Follows anyone from Wales.\", u'statusesCount': 20047, u'originalProfileImageURL': u'http://pbs.twimg.com/profile_images/689893297989509121/CIfzAmmu.jpg', u'profileBackgroundColor': u'C0DEED', u'miniProfileImageURL': u'http://pbs.twimg.com/profile_images/689893297989509121/CIfzAmmu_mini.jpg', u'isDefaultProfile': False, u'profileTextColor': u'333333', u'name': u'Allison Pearson', u'profileBackgroundImageURL': u'http://pbs.twimg.com/profile_background_images/95958053/Ithinkiloveyouimage.jpg', u'originalProfileImageURLHttps': u'https://pbs.twimg.com/profile_images/689893297989509121/CIfzAmmu.jpg', u'biggerProfileImageURLHttps': u'https://pbs.twimg.com/profile_images/689893297989509121/CIfzAmmu_bigger.jpg', u'profileBackgroundTiled': False, u'location': u'Cambridge, UK', u'profileUseBackgroundImage': True, u'listedCount': 332, u'isVerified': False, u'screenName': u'allisonpearson', u'status': None, u'profileBannerRetinaURL': None, u'isProtected': False, u'profileImageURL': u'http://pbs.twimg.com/profile_images/689893297989509121/CIfzAmmu_normal.jpg', u'translator': False, u'profileImageURLHttps': u'https://pbs.twimg.com/profile_images/689893297989509121/CIfzAmmu_normal.jpg', u'rateLimitStatus': None, u'profileBackgroundImageUrlHttps': u'https://pbs.twimg.com/profile_background_images/95958053/Ithinkiloveyouimage.jpg', u'timeZone': u'London', u'profileBannerIPadURL': None, u'profileLinkColor': u'0084B4', u'accessLevel': 0, u'createdAt': 1272303707000, u'miniProfileImageURLHttps': u'https://pbs.twimg.com/profile_images/689893297989509121/CIfzAmmu_mini.jpg', u'lang': u'en', u'isDefaultProfileImage': False, u'isGeoEnabled': False, u'profileBannerURL': None, u'urlentity': {u'end': 0, u'url': u'', u'text': u'', u'displayURL': u'', u'start': 0, u'expandedURL': u''}, u'profileSidebarBorderColor': u'C0DEED', u'url': None, u'utcOffset': 3600, u'isFollowRequestSent': False, u'isContributorsEnabled': False, u'profileBannerMobileRetinaURL': None}, u'accessLevel': 0, u'inReplyToStatusId': -1, u'lang': u'en', u'geoLocation': None, u'symbolEntities': [], u'isFavorited': False, u'place': None, u'isRetweeted': False, u'isPossiblySensitive': False, u'currentUserRetweetId': -1}\n",
      "  None\n",
      "  u'<a href=\"http://twitter.com/download/iphone\" rel=\"nofollow\">Twitter for iPhone</a>'\n",
      "  []\n",
      "  u\"RT @allisonpearson: Brussels, de facto capital of the EU, is also the jihadist capital of Europe. And the Remainers dare to say we're safer\\x85\"\n",
      "  []\n",
      "  {u'profileBannerMobileURL': u'https://pbs.twimg.com/profile_banners/2247762386/1455734844/mobile', u'followersCount': 62, u'showAllInlineMedia': False, u'profileSidebarFillColor': u'DDEEF6', u'withheldInCountries': None, u'profileBannerIPadRetinaURL': u'https://pbs.twimg.com/profile_banners/2247762386/1455734844/ipad_retina', u'friendsCount': 818, u'favouritesCount': 12, u'biggerProfileImageURL': u'http://pbs.twimg.com/profile_images/700028959321387009/vfAiXMt6_bigger.jpg', u'id': 2247762386, u'descriptionURLEntities': [], u'description': u'Mostly watching.', u'statusesCount': 374, u'originalProfileImageURL': u'http://pbs.twimg.com/profile_images/700028959321387009/vfAiXMt6.jpg', u'profileBackgroundColor': u'C0DEED', u'miniProfileImageURL': u'http://pbs.twimg.com/profile_images/700028959321387009/vfAiXMt6_mini.jpg', u'isDefaultProfile': True, u'profileTextColor': u'333333', u'name': u'Jim Binns', u'profileBackgroundImageURL': u'http://abs.twimg.com/images/themes/theme1/bg.png', u'originalProfileImageURLHttps': u'https://pbs.twimg.com/profile_images/700028959321387009/vfAiXMt6.jpg', u'biggerProfileImageURLHttps': u'https://pbs.twimg.com/profile_images/700028959321387009/vfAiXMt6_bigger.jpg', u'profileBackgroundTiled': False, u'location': u'', u'profileUseBackgroundImage': True, u'listedCount': 1, u'isVerified': False, u'screenName': u'JimBinns1', u'status': None, u'profileBannerRetinaURL': u'https://pbs.twimg.com/profile_banners/2247762386/1455734844/web_retina', u'isProtected': False, u'profileImageURL': u'http://pbs.twimg.com/profile_images/700028959321387009/vfAiXMt6_normal.jpg', u'translator': False, u'profileImageURLHttps': u'https://pbs.twimg.com/profile_images/700028959321387009/vfAiXMt6_normal.jpg', u'rateLimitStatus': None, u'profileBackgroundImageUrlHttps': u'https://abs.twimg.com/images/themes/theme1/bg.png', u'timeZone': u'Casablanca', u'profileBannerIPadURL': u'https://pbs.twimg.com/profile_banners/2247762386/1455734844/ipad', u'profileLinkColor': u'0084B4', u'accessLevel': 0, u'createdAt': 1387141757000, u'miniProfileImageURLHttps': u'https://pbs.twimg.com/profile_images/700028959321387009/vfAiXMt6_mini.jpg', u'lang': u'en-gb', u'isDefaultProfileImage': False, u'isGeoEnabled': False, u'profileBannerURL': u'https://pbs.twimg.com/profile_banners/2247762386/1455734844/web', u'urlentity': {u'end': 0, u'url': u'', u'text': u'', u'displayURL': u'', u'start': 0, u'expandedURL': u''}, u'profileSidebarBorderColor': u'C0DEED', u'url': None, u'utcOffset': 3600, u'isFollowRequestSent': False, u'isContributorsEnabled': False, u'profileBannerMobileRetinaURL': u'https://pbs.twimg.com/profile_banners/2247762386/1455734844/mobile_retina'}\n",
      "  [{u'end': 18, u'name': u'Allison Pearson', u'text': u'allisonpearson', u'start': 3, u'id': 137413599, u'screenName': u'allisonpearson'}]\n",
      "  None 'leave' 'neutral'\n",
      "  {u'And': True, u'EU,': True, u'facto': True, u'Remainers': True, u'jihadist': True, u'de': True, u'safer\\x85': True, u'also': True, u'say': True, u\"we're\": True, u'capital': True, u'@allisonpearson:': True, u'Europe.': True, u'Brussels,': True, u'dare': True}\n",
      "  'neg' datetime.date(2016, 4, 3)]]\n"
     ]
    }
   ],
   "source": [
    "print df.sort_values(by='retweetCount', ascending=False).head(1).values"
   ]
  },
  {
   "cell_type": "code",
   "execution_count": 128,
   "metadata": {
    "collapsed": false
   },
   "outputs": [
    {
     "name": "stdout",
     "output_type": "stream",
     "text": [
      "<class 'pandas.core.frame.DataFrame'>\n",
      "Int64Index: 127143 entries, 0 to 6998\n",
      "Data columns (total 38 columns):\n",
      "accessLevel              127143 non-null int64\n",
      "contributors             127143 non-null object\n",
      "createdAt                127143 non-null int64\n",
      "currentUserRetweetId     127143 non-null int64\n",
      "extendedMediaEntities    127143 non-null object\n",
      "favoriteCount            127143 non-null int64\n",
      "geoLocation              45 non-null object\n",
      "hashtagEntities          127143 non-null object\n",
      "id                       127143 non-null int64\n",
      "inReplyToScreenName      9873 non-null object\n",
      "inReplyToStatusId        127143 non-null int64\n",
      "inReplyToUserId          127143 non-null int64\n",
      "isFavorited              127143 non-null bool\n",
      "isPossiblySensitive      127143 non-null bool\n",
      "isRetweeted              127143 non-null bool\n",
      "isTruncated              127143 non-null bool\n",
      "lang                     127143 non-null object\n",
      "mediaEntities            127143 non-null object\n",
      "place                    2162 non-null object\n",
      "quotedStatus             6451 non-null object\n",
      "quotedStatusId           127143 non-null int64\n",
      "rateLimitStatus          0 non-null object\n",
      "retweet                  127143 non-null bool\n",
      "retweetCount             127143 non-null int64\n",
      "retweetedByMe            127143 non-null bool\n",
      "retweetedStatus          88042 non-null object\n",
      "scopes                   5 non-null object\n",
      "source                   127143 non-null object\n",
      "symbolEntities           127143 non-null object\n",
      "text                     127143 non-null object\n",
      "urlentities              127143 non-null object\n",
      "user                     127143 non-null object\n",
      "userMentionEntities      127143 non-null object\n",
      "withheldInCountries      2 non-null object\n",
      "subject                  127143 non-null object\n",
      "subject_strict           127143 non-null object\n",
      "feats                    127143 non-null object\n",
      "sentiment                127143 non-null object\n",
      "dtypes: bool(6), int64(9), object(23)\n",
      "memory usage: 32.7+ MB\n"
     ]
    }
   ],
   "source": [
    "df.info()"
   ]
  },
  {
   "cell_type": "code",
   "execution_count": 109,
   "metadata": {
    "collapsed": false
   },
   "outputs": [],
   "source": [
    "hashtag_stay = ['yes2eu', 'yestoeu', 'betteroffin', 'votein', 'ukineu', 'bremain', 'strongerin', 'leadnotleave', 'voteremain', 'remain', 'stay']\n",
    "hashtag_leave = ['no2eu', 'notoeu', 'betteroffout', 'voteout', 'britainout', 'leaveeu', 'loveeuropeleaveeu', 'voteleave', 'beleave', 'leave', 'out']\n",
    "vocab_stay = ['stay', 'remain', 'in']\n",
    "vocab_leave = ['leave', 'exit', 'out']\n",
    "\n",
    "punctuation = list(string.punctuation)\n",
    "stop = stopwords.words('english') + punctuation + ['RT', 'rt', 'via', 'http', 'https', ':/']\n",
    "\n",
    "def rule_based_tweets(df):\n",
    "    \n",
    "    subject = []\n",
    "    \n",
    "    for i, d in df.iterrows():\n",
    "        stay = False\n",
    "        leave = False\n",
    "        for h in d.hashtagEntities:\n",
    "            if not (stay and leave):\n",
    "#                 print h['text']\n",
    "                if h['text'].lower() in hashtag_stay:\n",
    "                    stay = True\n",
    "                if h['text'].lower() in hashtag_leave:\n",
    "                    leave = True\n",
    "#         print d\n",
    "\n",
    "#         print \"hash debug\", \"stay\", stay, \"leave\", leave\n",
    "\n",
    "#         print type(d.text), d.text\n",
    "        if not (stay and leave):\n",
    "            terms = [term for term in preprocess.preprocess(d.text)]\n",
    "            no_stop = [term for term in terms if term not in stop]\n",
    "            words = [term for term in no_stop if not term.startswith(('#', '@'))]\n",
    "#             print words\n",
    "            for word in words:\n",
    "                if not stay and leave:\n",
    "                    if word.lower() in vocab_stay:\n",
    "                        stay = True\n",
    "                    if h['text'].lower() in vocab_leave:\n",
    "                        leave = True\n",
    "                        \n",
    "\n",
    "        \n",
    "        if stay and not leave:\n",
    "            subject.append('stay')\n",
    "        elif not stay and leave:\n",
    "            subject.append('leave')\n",
    "        else:\n",
    "            subject.append('neutral')\n",
    "#         print \"text debug\", \"stay\", stay, \"leave\", leave\n",
    "            \n",
    "    return subject\n",
    "        \n",
    "subjects_strict = rule_based_tweets(df)"
   ]
  },
  {
   "cell_type": "code",
   "execution_count": 106,
   "metadata": {
    "collapsed": true
   },
   "outputs": [],
   "source": [
    "df['subject'] = subjects"
   ]
  },
  {
   "cell_type": "code",
   "execution_count": 108,
   "metadata": {
    "collapsed": false
   },
   "outputs": [
    {
     "data": {
      "text/plain": [
       "leave      104753\n",
       "neutral     14171\n",
       "stay         8219\n",
       "Name: subject, dtype: int64"
      ]
     },
     "execution_count": 108,
     "metadata": {},
     "output_type": "execute_result"
    }
   ],
   "source": [
    "df['subject'].value_counts()"
   ]
  },
  {
   "cell_type": "code",
   "execution_count": 110,
   "metadata": {
    "collapsed": true
   },
   "outputs": [],
   "source": [
    "df['subject_strict'] = subjects_strict"
   ]
  },
  {
   "cell_type": "code",
   "execution_count": 111,
   "metadata": {
    "collapsed": false
   },
   "outputs": [
    {
     "data": {
      "text/plain": [
       "neutral    82584\n",
       "leave      31904\n",
       "stay       12655\n",
       "Name: subject_strict, dtype: int64"
      ]
     },
     "execution_count": 111,
     "metadata": {},
     "output_type": "execute_result"
    }
   ],
   "source": [
    "df['subject_strict'].value_counts()"
   ]
  },
  {
   "cell_type": "code",
   "execution_count": 113,
   "metadata": {
    "collapsed": true
   },
   "outputs": [],
   "source": [
    "df['feats'] = df['text'].apply(word_feats)"
   ]
  },
  {
   "cell_type": "code",
   "execution_count": 119,
   "metadata": {
    "collapsed": false
   },
   "outputs": [
    {
     "name": "stderr",
     "output_type": "stream",
     "text": [
      "/Library/Frameworks/Python.framework/Versions/2.7/lib/python2.7/site-packages/nltk/classify/naivebayes.py:97: UnicodeWarning: Unicode equal comparison failed to convert both arguments to Unicode - interpreting them as being unequal\n",
      "  if (label, fname) in self._feature_probdist:\n"
     ]
    }
   ],
   "source": [
    "df['sentiment'] = classifier.classify_many(df['feats'].values)"
   ]
  },
  {
   "cell_type": "code",
   "execution_count": 120,
   "metadata": {
    "collapsed": false
   },
   "outputs": [
    {
     "data": {
      "text/plain": [
       "neg    66771\n",
       "pos    60372\n",
       "Name: sentiment, dtype: int64"
      ]
     },
     "execution_count": 120,
     "metadata": {},
     "output_type": "execute_result"
    }
   ],
   "source": [
    "df['sentiment'].value_counts()"
   ]
  },
  {
   "cell_type": "code",
   "execution_count": 123,
   "metadata": {
    "collapsed": false
   },
   "outputs": [
    {
     "name": "stdout",
     "output_type": "stream",
     "text": [
      "leave\n",
      "pos    16041\n",
      "neg    15863\n",
      "Name: sentiment, dtype: int64\n",
      "neutral\n",
      "neg    44442\n",
      "pos    38142\n",
      "Name: sentiment, dtype: int64\n",
      "stay\n",
      "neg    6466\n",
      "pos    6189\n",
      "Name: sentiment, dtype: int64\n"
     ]
    }
   ],
   "source": [
    "for g, d in df.groupby('subject_strict'):\n",
    "    print g\n",
    "    print d['sentiment'].value_counts()"
   ]
  },
  {
   "cell_type": "code",
   "execution_count": 149,
   "metadata": {
    "collapsed": false
   },
   "outputs": [
    {
     "name": "stdout",
     "output_type": "stream",
     "text": [
      "leave\n",
      "neg    54498\n",
      "pos    50255\n",
      "Name: sentiment, dtype: int64\n",
      "neutral\n",
      "neg    8474\n",
      "pos    5697\n",
      "Name: sentiment, dtype: int64\n",
      "stay\n",
      "pos    4420\n",
      "neg    3799\n",
      "Name: sentiment, dtype: int64\n"
     ]
    }
   ],
   "source": [
    "for g, d in df.groupby('subject'):\n",
    "    print g\n",
    "    val = d['sentiment'].value_counts()\n",
    "    print val"
   ]
  },
  {
   "cell_type": "code",
   "execution_count": 152,
   "metadata": {
    "collapsed": false
   },
   "outputs": [
    {
     "data": {
      "text/plain": [
       "pandas.core.series.Series"
      ]
     },
     "execution_count": 152,
     "metadata": {},
     "output_type": "execute_result"
    }
   ],
   "source": [
    "type(val)"
   ]
  },
  {
   "cell_type": "code",
   "execution_count": 158,
   "metadata": {
    "collapsed": false
   },
   "outputs": [
    {
     "data": {
      "text/plain": [
       "4420"
      ]
     },
     "execution_count": 158,
     "metadata": {},
     "output_type": "execute_result"
    }
   ],
   "source": [
    "val['pos']"
   ]
  },
  {
   "cell_type": "code",
   "execution_count": 126,
   "metadata": {
    "collapsed": false
   },
   "outputs": [],
   "source": [
    "df.to_pickle('pkl/brexit.pkl')"
   ]
  },
  {
   "cell_type": "code",
   "execution_count": 146,
   "metadata": {
    "collapsed": false
   },
   "outputs": [],
   "source": [
    "df['date'] = df['createdAt'].apply(lambda x: datetime.fromtimestamp(x/1e3))"
   ]
  },
  {
   "cell_type": "code",
   "execution_count": 147,
   "metadata": {
    "collapsed": false
   },
   "outputs": [
    {
     "data": {
      "text/plain": [
       "2016-04-07    26124\n",
       "2016-04-06    22095\n",
       "2016-04-08    18902\n",
       "2016-04-05    18339\n",
       "2016-04-04    16771\n",
       "2016-04-09     7061\n",
       "2016-04-12     7000\n",
       "2016-04-03     5201\n",
       "2016-04-11     3809\n",
       "2016-04-10     1360\n",
       "2016-04-13      481\n",
       "Name: date, dtype: int64"
      ]
     },
     "execution_count": 147,
     "metadata": {},
     "output_type": "execute_result"
    }
   ],
   "source": [
    "df['date'].value_counts()"
   ]
  },
  {
   "cell_type": "code",
   "execution_count": 159,
   "metadata": {
    "collapsed": false
   },
   "outputs": [
    {
     "name": "stdout",
     "output_type": "stream",
     "text": [
      "2016-04-03\n",
      "leave\n",
      "neg    1006\n",
      "pos     961\n",
      "Name: sentiment, dtype: int64\n",
      "neutral\n",
      "neg    1510\n",
      "pos    1341\n",
      "Name: sentiment, dtype: int64\n",
      "stay\n",
      "neg    199\n",
      "pos    184\n",
      "Name: sentiment, dtype: int64\n",
      "2016-04-04\n",
      "leave\n",
      "neg    2013\n",
      "pos    1948\n",
      "Name: sentiment, dtype: int64\n",
      "neutral\n",
      "neg    5826\n",
      "pos    5263\n",
      "Name: sentiment, dtype: int64\n",
      "stay\n",
      "neg    1023\n",
      "pos     698\n",
      "Name: sentiment, dtype: int64\n",
      "2016-04-05\n",
      "leave\n",
      "neg    2090\n",
      "pos    1937\n",
      "Name: sentiment, dtype: int64\n",
      "neutral\n",
      "neg    6568\n",
      "pos    6016\n",
      "Name: sentiment, dtype: int64\n",
      "stay\n",
      "pos    973\n",
      "neg    755\n",
      "Name: sentiment, dtype: int64\n",
      "2016-04-06\n",
      "leave\n",
      "neg    3318\n",
      "pos    2383\n",
      "Name: sentiment, dtype: int64\n",
      "neutral\n",
      "neg    8022\n",
      "pos    6432\n",
      "Name: sentiment, dtype: int64\n",
      "stay\n",
      "neg    1084\n",
      "pos     856\n",
      "Name: sentiment, dtype: int64\n",
      "2016-04-07\n",
      "leave\n",
      "pos    3387\n",
      "neg    3051\n",
      "Name: sentiment, dtype: int64\n",
      "neutral\n",
      "neg    9167\n",
      "pos    8175\n",
      "Name: sentiment, dtype: int64\n",
      "stay\n",
      "pos    1390\n",
      "neg     954\n",
      "Name: sentiment, dtype: int64\n",
      "2016-04-08\n",
      "leave\n",
      "pos    2905\n",
      "neg    2030\n",
      "Name: sentiment, dtype: int64\n",
      "neutral\n",
      "neg    6366\n",
      "pos    5340\n",
      "Name: sentiment, dtype: int64\n",
      "stay\n",
      "neg    1206\n",
      "pos    1055\n",
      "Name: sentiment, dtype: int64\n",
      "2016-04-09\n",
      "leave\n",
      "pos    924\n",
      "neg    717\n",
      "Name: sentiment, dtype: int64\n",
      "neutral\n",
      "neg    2410\n",
      "pos    1925\n",
      "Name: sentiment, dtype: int64\n",
      "stay\n",
      "neg    567\n",
      "pos    518\n",
      "Name: sentiment, dtype: int64\n",
      "2016-04-10\n",
      "leave\n",
      "neg    192\n",
      "pos    152\n",
      "Name: sentiment, dtype: int64\n",
      "neutral\n",
      "neg    526\n",
      "pos    358\n",
      "Name: sentiment, dtype: int64\n",
      "stay\n",
      "neg    74\n",
      "pos    58\n",
      "Name: sentiment, dtype: int64\n",
      "2016-04-11\n",
      "leave\n",
      "pos    581\n",
      "neg    438\n",
      "Name: sentiment, dtype: int64\n",
      "neutral\n",
      "neg    1222\n",
      "pos    1153\n",
      "Name: sentiment, dtype: int64\n",
      "stay\n",
      "neg    214\n",
      "pos    201\n",
      "Name: sentiment, dtype: int64\n",
      "2016-04-12\n",
      "leave\n",
      "neg    959\n",
      "pos    802\n",
      "Name: sentiment, dtype: int64\n",
      "neutral\n",
      "neg    2630\n",
      "pos    2001\n",
      "Name: sentiment, dtype: int64\n",
      "stay\n",
      "neg    369\n",
      "pos    239\n",
      "Name: sentiment, dtype: int64\n",
      "2016-04-13\n",
      "leave\n",
      "pos    61\n",
      "neg    49\n",
      "Name: sentiment, dtype: int64\n",
      "neutral\n",
      "neg    195\n",
      "pos    138\n",
      "Name: sentiment, dtype: int64\n",
      "stay\n",
      "neg    21\n",
      "pos    17\n",
      "Name: sentiment, dtype: int64\n"
     ]
    }
   ],
   "source": [
    "for g, d in df.groupby('date'):    \n",
    "    print g\n",
    "    for g_, d_ in d.groupby('subject_strict'):\n",
    "        print g_\n",
    "        print d_['sentiment'].value_counts()"
   ]
  },
  {
   "cell_type": "code",
   "execution_count": null,
   "metadata": {
    "collapsed": true
   },
   "outputs": [],
   "source": []
  }
 ],
 "metadata": {
  "kernelspec": {
   "display_name": "Python 2",
   "language": "python",
   "name": "python2"
  },
  "language_info": {
   "codemirror_mode": {
    "name": "ipython",
    "version": 2
   },
   "file_extension": ".py",
   "mimetype": "text/x-python",
   "name": "python",
   "nbconvert_exporter": "python",
   "pygments_lexer": "ipython2",
   "version": "2.7.10"
  }
 },
 "nbformat": 4,
 "nbformat_minor": 0
}
